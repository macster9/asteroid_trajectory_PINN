{
 "cells": [
  {
   "cell_type": "code",
   "execution_count": null,
   "id": "860b400e-6f47-412c-9398-eb8c3c2c381a",
   "metadata": {},
   "outputs": [],
   "source": [
    "import os\n",
    "\n",
    "notebook_path = os.getcwd()\n",
    "if notebook_path[-9:] == \"notebooks\":\n",
    "    %cd ../../\n",
    "os.getcwd()"
   ]
  },
  {
   "cell_type": "markdown",
   "id": "809091e2-2342-4f1c-b070-8a953eb4e881",
   "metadata": {
    "tags": []
   },
   "source": [
    "##### This should be your project working directory.\n",
    "\n",
    "##### <font color='red'>If the imports below are not working, it's likely because your working directory is wrong.</font>"
   ]
  },
  {
   "cell_type": "code",
   "execution_count": null,
   "id": "e55a7065-54f9-4b80-92f5-45a2be412090",
   "metadata": {},
   "outputs": [],
   "source": [
    "from src import manipulate, scrape, setup"
   ]
  },
  {
   "cell_type": "markdown",
   "id": "733c05c0-cf10-45f4-9477-a87ce143e36a",
   "metadata": {},
   "source": [
    "Creating directory structure"
   ]
  },
  {
   "cell_type": "code",
   "execution_count": null,
   "id": "92d0b306-1852-4dff-943a-4c53761b9cc4",
   "metadata": {},
   "outputs": [],
   "source": [
    "setup.create_dirs()"
   ]
  },
  {
   "cell_type": "markdown",
   "id": "e03cb2a0-fece-4a2e-8023-881bebe2636e",
   "metadata": {},
   "source": [
    "Collecting observation data from asteroid list.\n",
    "\n",
    "Getting catalogue of observatories."
   ]
  },
  {
   "cell_type": "code",
   "execution_count": null,
   "id": "4f9724ca-549e-41d1-a1e6-cfb8eb01c279",
   "metadata": {},
   "outputs": [],
   "source": [
    "if len(os.listdir(\"data/temp/obs_txt\")) == 0:\n",
    "    scrape.get_observations()\n",
    "else:\n",
    "    print(\"NEA Observations downloaded.\")\n",
    "scrape.get_observatory_list()"
   ]
  },
  {
   "cell_type": "markdown",
   "id": "34dde1e9-d72d-4012-9a39-8301eec435aa",
   "metadata": {},
   "source": [
    "Converting asteroid files from .rwo binaries into readable csvs."
   ]
  },
  {
   "cell_type": "code",
   "execution_count": null,
   "id": "5c6bb97a-80fc-4e5d-9c32-5e58333997a0",
   "metadata": {},
   "outputs": [],
   "source": [
    "if len(os.listdir(\"data/temp/csvs\")) == 0:\n",
    "    manipulate.convert_asteroid_file()\n",
    "else:\n",
    "    print(\"Converted .rwo files to .csv2\")"
   ]
  },
  {
   "cell_type": "markdown",
   "id": "750fe552-6311-4564-8b67-3875dda9759f",
   "metadata": {},
   "source": [
    "Getting ephemerides data from NEA to benchmark predictions against. This may take some time.."
   ]
  },
  {
   "cell_type": "code",
   "execution_count": null,
   "id": "96803f3f-0f98-47ee-b7e2-ae7e7d131432",
   "metadata": {},
   "outputs": [],
   "source": [
    "if len(os.listdir(\"data/temp/eph_txt\")) == 0:\n",
    "    scrape.get_ephemerides()\n",
    "else:\n",
    "    print(\"NEA Ephemerides downloaded.\")"
   ]
  },
  {
   "cell_type": "markdown",
   "id": "5fac582a-06e9-49d1-8e44-ca6d3cf5238a",
   "metadata": {},
   "source": [
    "Calculating distances of asteroids and converting them into x, y, z cartesian coordiantes, finally storing the in pkl file.\n",
    "\n",
    "Sorting ephemerides from .rwo binaries into pkl files.\n",
    "\n",
    "You may get ERFA  due to \"dubious\" years queried - this happens because of forecasting ephemerides into the future without data to support estimations. This can be ignored.\n",
    "\n",
    "This may also take some time to calculate, approximately 1.5 hrs for 74 objects"
   ]
  },
  {
   "cell_type": "code",
   "execution_count": null,
   "id": "1bab8d18-21d9-40c7-b131-65f56e939866",
   "metadata": {
    "tags": []
   },
   "outputs": [],
   "source": [
    "manipulate.collect_data()"
   ]
  },
  {
   "cell_type": "code",
   "execution_count": null,
   "id": "2a2b9c45-1e70-4792-91c8-2b3d2c52c935",
   "metadata": {
    "tags": []
   },
   "outputs": [],
   "source": [
    "manipulate.get_distance()\n",
    "# manipulate.sort_ephemerides()"
   ]
  },
  {
   "cell_type": "code",
   "execution_count": null,
   "id": "51bd9f66-7cf8-430f-a755-39a9b3f02c89",
   "metadata": {},
   "outputs": [],
   "source": [
    "# setup.del_temp_files()"
   ]
  }
 ],
 "metadata": {
  "kernelspec": {
   "display_name": "Python 3 (ipykernel)",
   "language": "python",
   "name": "python3"
  },
  "language_info": {
   "codemirror_mode": {
    "name": "ipython",
    "version": 3
   },
   "file_extension": ".py",
   "mimetype": "text/x-python",
   "name": "python",
   "nbconvert_exporter": "python",
   "pygments_lexer": "ipython3",
   "version": "3.10.0"
  }
 },
 "nbformat": 4,
 "nbformat_minor": 5
}
