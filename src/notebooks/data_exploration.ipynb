{
 "cells": [
  {
   "cell_type": "code",
   "execution_count": null,
   "id": "2a2d3b66-bf8e-4eb0-982e-ca13fa6af941",
   "metadata": {},
   "outputs": [],
   "source": [
    "import os\n",
    "\n",
    "notebook_path = os.getcwd()\n",
    "if notebook_path[-9:] == \"notebooks\":\n",
    "    %cd ../../\n",
    "os.getcwd()"
   ]
  },
  {
   "cell_type": "markdown",
   "id": "38ffa469-0cc6-4461-9b9a-fd3513b58477",
   "metadata": {},
   "source": [
    "##### This should be your project working directory.\n",
    "\n",
    "##### <font color='red'>If the imports below are not working, it's likely because your working directory is wrong.</font>"
   ]
  },
  {
   "cell_type": "code",
   "execution_count": null,
   "id": "a096d094-2231-4b1c-a891-2f3cd7135a69",
   "metadata": {},
   "outputs": [],
   "source": [
    "from src import manipulate, scrape, tools, setup, plot"
   ]
  },
  {
   "cell_type": "markdown",
   "id": "d1f2006d-efff-4e8c-a7dc-970024c1aacc",
   "metadata": {},
   "source": [
    "Collecting number of multiple observations made within 3 hrs of eachother to calculate distances."
   ]
  },
  {
   "cell_type": "code",
   "execution_count": null,
   "id": "3e2660a4-5a13-4009-8ee1-a4907c9e4867",
   "metadata": {},
   "outputs": [],
   "source": [
    "plot.plot_hist()"
   ]
  },
  {
   "cell_type": "code",
   "execution_count": null,
   "id": "b689d8cb-d701-4465-8165-582278b8b726",
   "metadata": {},
   "outputs": [],
   "source": []
  }
 ],
 "metadata": {
  "kernelspec": {
   "display_name": "Python 3 (ipykernel)",
   "language": "python",
   "name": "python3"
  },
  "language_info": {
   "codemirror_mode": {
    "name": "ipython",
    "version": 3
   },
   "file_extension": ".py",
   "mimetype": "text/x-python",
   "name": "python",
   "nbconvert_exporter": "python",
   "pygments_lexer": "ipython3",
   "version": "3.10.0"
  }
 },
 "nbformat": 4,
 "nbformat_minor": 5
}
