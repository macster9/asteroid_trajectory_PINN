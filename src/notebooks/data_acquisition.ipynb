{
 "cells": [
  {
   "cell_type": "code",
   "execution_count": 1,
   "id": "860b400e-6f47-412c-9398-eb8c3c2c381a",
   "metadata": {},
   "outputs": [
    {
     "name": "stdout",
     "output_type": "stream",
     "text": [
      "D:\\Sandbox\\asteroid_trajectory_PINN\n"
     ]
    },
    {
     "data": {
      "text/plain": [
       "'D:\\\\Sandbox\\\\asteroid_trajectory_PINN'"
      ]
     },
     "execution_count": 1,
     "metadata": {},
     "output_type": "execute_result"
    }
   ],
   "source": [
    "import os\n",
    "\n",
    "notebook_path = os.getcwd()\n",
    "if notebook_path[-9:] == \"notebooks\":\n",
    "    %cd ../../\n",
    "os.getcwd()"
   ]
  },
  {
   "cell_type": "markdown",
   "id": "809091e2-2342-4f1c-b070-8a953eb4e881",
   "metadata": {
    "tags": []
   },
   "source": [
    "##### This should be your project working directory.\n",
    "\n",
    "##### <font color='red'>If the imports below are not working, it's likely because your working directory is wrong.</font>"
   ]
  },
  {
   "cell_type": "code",
   "execution_count": 2,
   "id": "e55a7065-54f9-4b80-92f5-45a2be412090",
   "metadata": {},
   "outputs": [],
   "source": [
    "from src import manipulate, scrape, setup"
   ]
  },
  {
   "cell_type": "markdown",
   "id": "733c05c0-cf10-45f4-9477-a87ce143e36a",
   "metadata": {},
   "source": [
    "Creating directory structure"
   ]
  },
  {
   "cell_type": "code",
   "execution_count": 3,
   "id": "92d0b306-1852-4dff-943a-4c53761b9cc4",
   "metadata": {},
   "outputs": [
    {
     "name": "stdout",
     "output_type": "stream",
     "text": [
      "Directory structure created.\n"
     ]
    }
   ],
   "source": [
    "setup.create_dirs()"
   ]
  },
  {
   "cell_type": "markdown",
   "id": "e03cb2a0-fece-4a2e-8023-881bebe2636e",
   "metadata": {},
   "source": [
    "Collecting observation data from asteroid list.\n",
    "\n",
    "Getting catalogue of observatories."
   ]
  },
  {
   "cell_type": "code",
   "execution_count": 4,
   "id": "4f9724ca-549e-41d1-a1e6-cfb8eb01c279",
   "metadata": {},
   "outputs": [
    {
     "name": "stdout",
     "output_type": "stream",
     "text": [
      "NEA Observations downloaded.\n"
     ]
    },
    {
     "data": {
      "application/vnd.jupyter.widget-view+json": {
       "model_id": "f6c8d4731eb54942a73b58002bc74e7e",
       "version_major": 2,
       "version_minor": 0
      },
      "text/plain": [
       "Scrape Locations...:   0%|          | 0/2494 [00:00<?, ?it/s]"
      ]
     },
     "metadata": {},
     "output_type": "display_data"
    },
    {
     "name": "stdout",
     "output_type": "stream",
     "text": [
      "List of Observatories downloaded.\n"
     ]
    }
   ],
   "source": [
    "if len(os.listdir(\"data/temp/obs_txt\")) == 0:\n",
    "    scrape.get_observations()\n",
    "else:\n",
    "    print(\"NEA Observations downloaded.\")\n",
    "scrape.get_observatory_list()"
   ]
  },
  {
   "cell_type": "markdown",
   "id": "34dde1e9-d72d-4012-9a39-8301eec435aa",
   "metadata": {},
   "source": [
    "Converting asteroid files from .rwo binaries into readable csvs."
   ]
  },
  {
   "cell_type": "code",
   "execution_count": 5,
   "id": "5c6bb97a-80fc-4e5d-9c32-5e58333997a0",
   "metadata": {},
   "outputs": [
    {
     "name": "stdout",
     "output_type": "stream",
     "text": [
      "Converted .rwo files to .csv2\n"
     ]
    }
   ],
   "source": [
    "if len(os.listdir(\"data/temp/csvs\")) == 0:\n",
    "    manipulate.convert_asteroid_file()\n",
    "else:\n",
    "    print(\"Converted .rwo files to .csv2\")"
   ]
  },
  {
   "cell_type": "markdown",
   "id": "750fe552-6311-4564-8b67-3875dda9759f",
   "metadata": {},
   "source": [
    "Getting ephemerides data from NEA to benchmark predictions against. This may take some time.."
   ]
  },
  {
   "cell_type": "code",
   "execution_count": 6,
   "id": "96803f3f-0f98-47ee-b7e2-ae7e7d131432",
   "metadata": {},
   "outputs": [
    {
     "name": "stdout",
     "output_type": "stream",
     "text": [
      "NEA Ephemerides downloaded.\n"
     ]
    }
   ],
   "source": [
    "if len(os.listdir(\"data/temp/eph_txt\")) == 0:\n",
    "    scrape.get_ephemerides()\n",
    "else:\n",
    "    print(\"NEA Ephemerides downloaded.\")"
   ]
  },
  {
   "cell_type": "markdown",
   "id": "5fac582a-06e9-49d1-8e44-ca6d3cf5238a",
   "metadata": {},
   "source": [
    "Calculating distances of asteroids and converting them into x, y, z cartesian coordiantes, finally storing the in pkl file.\n",
    "\n",
    "Sorting ephemerides from .rwo binaries into pkl files.\n",
    "\n",
    "You may get ERFA  due to \"dubious\" years queried - this happens because of forecasting ephemerides into the future without data to support estimations. This can be ignored.\n",
    "\n",
    "This may also take some time to calculate, approximately 1.5 hrs for 74 objects"
   ]
  },
  {
   "cell_type": "code",
   "execution_count": 3,
   "id": "1bab8d18-21d9-40c7-b131-65f56e939866",
   "metadata": {
    "tags": []
   },
   "outputs": [
    {
     "data": {
      "application/vnd.jupyter.widget-view+json": {
       "model_id": "f571585e517249f1aab4515e14ba6354",
       "version_major": 2,
       "version_minor": 0
      },
      "text/plain": [
       "Generating Histograms...:   0%|          | 0/4 [00:00<?, ?it/s]"
      ]
     },
     "metadata": {},
     "output_type": "display_data"
    },
    {
     "data": {
      "application/vnd.jupyter.widget-view+json": {
       "model_id": "babd6b021fbc4bfc996f4e042ccf0a84",
       "version_major": 2,
       "version_minor": 0
      },
      "text/plain": [
       "Getting Distances... threshold: 0.5hrs:   0%|          | 0/74 [00:00<?, ?it/s]"
      ]
     },
     "metadata": {},
     "output_type": "display_data"
    },
    {
     "name": "stdout",
     "output_type": "stream",
     "text": [
      "[48, 47, 51, 48, 34, 85, 25, 155, 59, 108, 152, 73, 126, 13, 60, 101, 52, 47, 58, 50, 34, 103, 17, 25, 33, 0, 0, 47, 54, 39, 42, 31, 18, 36, 15, 283, 17, 48, 3, 85, 1343, 367, 8, 49, 2, 138, 67, 0, 4, 191, 4, 164, 64, 17, 7, 78, 45, 6, 3, 61, 254, 20, 7, 44, 69, 57, 52, 2, 42, 44, 22, 89, 27, 1498]\n"
     ]
    },
    {
     "data": {
      "application/vnd.jupyter.widget-view+json": {
       "model_id": "b263885595b04b15ba3e33860a2b44f7",
       "version_major": 2,
       "version_minor": 0
      },
      "text/plain": [
       "Getting Distances... threshold: 1.0hrs:   0%|          | 0/74 [00:00<?, ?it/s]"
      ]
     },
     "metadata": {},
     "output_type": "display_data"
    },
    {
     "name": "stdout",
     "output_type": "stream",
     "text": [
      "[89, 72, 87, 85, 42, 119, 32, 205, 87, 155, 240, 99, 211, 15, 107, 132, 88, 71, 95, 70, 48, 174, 39, 31, 55, 0, 0, 81, 101, 54, 69, 42, 27, 43, 21, 476, 21, 71, 8, 117, 1661, 549, 13, 72, 5, 179, 84, 15, 6, 311, 6, 229, 89, 22, 10, 159, 59, 7, 6, 113, 306, 25, 10, 59, 90, 76, 96, 2, 85, 64, 38, 197, 43, 1904]\n"
     ]
    },
    {
     "data": {
      "application/vnd.jupyter.widget-view+json": {
       "model_id": "cdf12a64fcbe41739479024b934571c3",
       "version_major": 2,
       "version_minor": 0
      },
      "text/plain": [
       "Getting Distances... threshold: 1.5hrs:   0%|          | 0/74 [00:00<?, ?it/s]"
      ]
     },
     "metadata": {},
     "output_type": "display_data"
    },
    {
     "name": "stdout",
     "output_type": "stream",
     "text": [
      "[108, 86, 110, 109, 44, 159, 50, 254, 87, 215, 314, 117, 261, 23, 148, 181, 151, 86, 113, 96, 58, 193, 53, 43, 61, 0, 0, 104, 124, 64, 95, 59, 34, 46, 31, 539, 24, 79, 11, 130, 1818, 670, 22, 84, 12, 189, 106, 21, 7, 353, 8, 278, 111, 33, 18, 178, 72, 7, 10, 140, 424, 50, 17, 58, 100, 106, 107, 3, 109, 102, 41, 222, 50, 2266]\n"
     ]
    },
    {
     "data": {
      "application/vnd.jupyter.widget-view+json": {
       "model_id": "6c37b04fc6de4a6e8f7d3eb001483cce",
       "version_major": 2,
       "version_minor": 0
      },
      "text/plain": [
       "Getting Distances... threshold: 2.0hrs:   0%|          | 0/74 [00:00<?, ?it/s]"
      ]
     },
     "metadata": {},
     "output_type": "display_data"
    },
    {
     "name": "stdout",
     "output_type": "stream",
     "text": [
      "[114, 99, 119, 142, 47, 188, 64, 300, 91, 245, 376, 121, 288, 30, 194, 200, 185, 87, 132, 110, 67, 238, 61, 51, 80, 0, 0, 113, 159, 83, 97, 68, 35, 53, 33, 615, 27, 84, 13, 162, 2083, 745, 23, 96, 23, 194, 129, 25, 13, 419, 9, 301, 120, 36, 20, 220, 85, 7, 14, 169, 420, 56, 17, 66, 113, 117, 139, 4, 136, 111, 49, 257, 60, 2574]\n"
     ]
    }
   ],
   "source": [
    "manipulate.collect_data()"
   ]
  },
  {
   "cell_type": "code",
   "execution_count": 7,
   "id": "2a2b9c45-1e70-4792-91c8-2b3d2c52c935",
   "metadata": {
    "tags": []
   },
   "outputs": [
    {
     "data": {
      "application/vnd.jupyter.widget-view+json": {
       "model_id": "8d902fcaa8a84a9bb717097566c9e9e5",
       "version_major": 2,
       "version_minor": 0
      },
      "text/plain": [
       "Getting Distances... threshold: 1.0hrs:   0%|          | 0/74 [00:00<?, ?it/s]"
      ]
     },
     "metadata": {},
     "output_type": "display_data"
    },
    {
     "name": "stdout",
     "output_type": "stream",
     "text": [
      "[89, 72, 87, 85, 42, 119, 32, 205, 87, 155, 240, 99, 211, 15, 107, 132, 88, 71, 95, 70, 48, 174, 39, 31, 55, 0, 0, 81, 101, 54, 69, 42, 27, 43, 21, 476, 21, 71, 8, 117, 1661, 549, 13, 72, 5, 179, 84, 15, 6, 311, 6, 229, 89, 22, 10, 159, 59, 7, 6, 113, 306, 25, 10, 59, 90, 76, 96, 2, 85, 64, 38, 197, 43, 1904]\n"
     ]
    },
    {
     "data": {
      "application/vnd.jupyter.widget-view+json": {
       "model_id": "78857e7313e2414ca351b6219f0173ac",
       "version_major": 2,
       "version_minor": 0
      },
      "text/plain": [
       "Getting Ephemerides...:   0%|          | 0/1 [00:00<?, ?it/s]"
      ]
     },
     "metadata": {},
     "output_type": "display_data"
    },
    {
     "data": {
      "application/vnd.jupyter.widget-view+json": {
       "model_id": "",
       "version_major": 2,
       "version_minor": 0
      },
      "text/plain": [
       "10115_1992SK:   0%|          | 0/857 [00:00<?, ?it/s]"
      ]
     },
     "metadata": {},
     "output_type": "display_data"
    },
    {
     "name": "stderr",
     "output_type": "stream",
     "text": [
      "C:\\Users\\thoma\\python\\lib\\site-packages\\erfa\\core.py:154: ErfaWarning: ERFA function \"d2dtf\" yielded 1 of \"dubious year (Note 5)\"\n",
      "  warnings.warn('ERFA function \"{}\" yielded {}'.format(func_name, wmsg),\n"
     ]
    },
    {
     "data": {
      "text/plain": [
       "[[datetime.datetime(1953, 10, 12, 9, 38, 0, 9601),\n",
       "  datetime.datetime(2024, 2, 2, 9, 38, 0, 9601)]]"
      ]
     },
     "execution_count": 7,
     "metadata": {},
     "output_type": "execute_result"
    }
   ],
   "source": [
    "manipulate.get_distance()\n",
    "manipulate.sort_ephemerides()"
   ]
  },
  {
   "cell_type": "code",
   "execution_count": 18,
   "id": "51bd9f66-7cf8-430f-a755-39a9b3f02c89",
   "metadata": {},
   "outputs": [],
   "source": [
    "# setup.del_temp_files()"
   ]
  }
 ],
 "metadata": {
  "kernelspec": {
   "display_name": "Python 3 (ipykernel)",
   "language": "python",
   "name": "python3"
  },
  "language_info": {
   "codemirror_mode": {
    "name": "ipython",
    "version": 3
   },
   "file_extension": ".py",
   "mimetype": "text/x-python",
   "name": "python",
   "nbconvert_exporter": "python",
   "pygments_lexer": "ipython3",
   "version": "3.10.0"
  }
 },
 "nbformat": 4,
 "nbformat_minor": 5
}
